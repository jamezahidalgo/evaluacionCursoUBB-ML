{
 "cells": [
  {
   "cell_type": "markdown",
   "metadata": {},
   "source": [
    "# Ejercicio Gatos y perros\n",
    "## Carga de librerías"
   ]
  },
  {
   "cell_type": "code",
   "execution_count": 1,
   "metadata": {},
   "outputs": [
    {
     "name": "stderr",
     "output_type": "stream",
     "text": [
      "Using TensorFlow backend.\n"
     ]
    }
   ],
   "source": [
    "import tensorflow as tf\n",
    "from keras.preprocessing.image import ImageDataGenerator"
   ]
  },
  {
   "cell_type": "markdown",
   "metadata": {},
   "source": [
    "## PARTE 1 - Preprocesamiento de datos"
   ]
  },
  {
   "cell_type": "markdown",
   "metadata": {},
   "source": [
    "### Datos de entrenamiento"
   ]
  },
  {
   "cell_type": "code",
   "execution_count": 2,
   "metadata": {},
   "outputs": [
    {
     "name": "stdout",
     "output_type": "stream",
     "text": [
      "Found 26 images belonging to 2 classes.\n"
     ]
    }
   ],
   "source": [
    "train_datagen = ImageDataGenerator(rescale = 1./255,\n",
    "                                   shear_range = 0.2,\n",
    "                                   zoom_range = 0.2,\n",
    "                                   horizontal_flip = True)\n",
    "training_set = train_datagen.flow_from_directory('dataset_chi/training_set',\n",
    "                                                 target_size = (64, 64),\n",
    "                                                 batch_size = 32,\n",
    "                                                 class_mode = 'binary')"
   ]
  },
  {
   "cell_type": "markdown",
   "metadata": {},
   "source": [
    "### Datos de prueba"
   ]
  },
  {
   "cell_type": "code",
   "execution_count": 11,
   "metadata": {},
   "outputs": [
    {
     "name": "stdout",
     "output_type": "stream",
     "text": [
      "Found 14 images belonging to 2 classes.\n"
     ]
    }
   ],
   "source": [
    "test_datagen = ImageDataGenerator(rescale = 1./255)\n",
    "test_set = test_datagen.flow_from_directory('dataset_chi/test_set',\n",
    "                                            target_size = (64, 64),\n",
    "                                            batch_size = 32,\n",
    "                                            class_mode = 'binary')"
   ]
  },
  {
   "cell_type": "markdown",
   "metadata": {},
   "source": [
    "## PARTE 2 - Construyendo la red neuronal convolucional\n",
    "### Inicializando la red\n",
    "\n",
    "Para leer de keras: https://keras.io/getting_started/"
   ]
  },
  {
   "cell_type": "code",
   "execution_count": 18,
   "metadata": {},
   "outputs": [],
   "source": [
    "cnn = tf.keras.models.Sequential()"
   ]
  },
  {
   "cell_type": "markdown",
   "metadata": {},
   "source": [
    "### PASO 1 - Convolución"
   ]
  },
  {
   "cell_type": "code",
   "execution_count": 19,
   "metadata": {},
   "outputs": [],
   "source": [
    "cnn.add(tf.keras.layers.Conv2D(filters=32, kernel_size=3, activation='relu', input_shape=[64, 64, 3]))"
   ]
  },
  {
   "cell_type": "markdown",
   "metadata": {},
   "source": [
    "### PASO 2 - Pooling"
   ]
  },
  {
   "cell_type": "code",
   "execution_count": 20,
   "metadata": {},
   "outputs": [],
   "source": [
    "cnn.add(tf.keras.layers.MaxPool2D(pool_size=2, strides=2))"
   ]
  },
  {
   "cell_type": "markdown",
   "metadata": {},
   "source": [
    "### Agregando segunda capa\n",
    "\n",
    "Segunda conbolución y segundo Pooling"
   ]
  },
  {
   "cell_type": "code",
   "execution_count": 13,
   "metadata": {},
   "outputs": [],
   "source": [
    "cnn.add(tf.keras.layers.Conv2D(filters=32, kernel_size=3, activation='relu'))\n",
    "cnn.add(tf.keras.layers.MaxPool2D(pool_size=2, strides=2))"
   ]
  },
  {
   "cell_type": "markdown",
   "metadata": {},
   "source": [
    "### PASO 3 - Flattening"
   ]
  },
  {
   "cell_type": "code",
   "execution_count": 21,
   "metadata": {},
   "outputs": [],
   "source": [
    "cnn.add(tf.keras.layers.Flatten())"
   ]
  },
  {
   "cell_type": "markdown",
   "metadata": {},
   "source": [
    "### PASO 4 - Full connection"
   ]
  },
  {
   "cell_type": "code",
   "execution_count": 22,
   "metadata": {},
   "outputs": [],
   "source": [
    "cnn.add(tf.keras.layers.Dense(units=128, activation='relu'))"
   ]
  },
  {
   "cell_type": "markdown",
   "metadata": {},
   "source": [
    "### PASO 5 - Output layer"
   ]
  },
  {
   "cell_type": "code",
   "execution_count": 23,
   "metadata": {},
   "outputs": [],
   "source": [
    "cnn.add(tf.keras.layers.Dense(units=1, activation='sigmoid'))"
   ]
  },
  {
   "cell_type": "markdown",
   "metadata": {},
   "source": [
    "# PARTE 3 - Entrenando la red\n",
    "## Compilando la red"
   ]
  },
  {
   "cell_type": "code",
   "execution_count": 24,
   "metadata": {},
   "outputs": [],
   "source": [
    "cnn.compile(optimizer = 'adam', loss = 'binary_crossentropy', metrics = ['accuracy'])"
   ]
  },
  {
   "cell_type": "markdown",
   "metadata": {},
   "source": [
    "## Entrenando la red con el set de entrenamiento y evaluando con el set de prueba"
   ]
  },
  {
   "cell_type": "code",
   "execution_count": 25,
   "metadata": {},
   "outputs": [
    {
     "name": "stdout",
     "output_type": "stream",
     "text": [
      "Epoch 1/25\n",
      "1/1 [==============================] - 0s 326ms/step - loss: 0.7182 - accuracy: 0.5000 - val_loss: 4.0054 - val_accuracy: 0.5000\n",
      "Epoch 2/25\n",
      "1/1 [==============================] - 0s 133ms/step - loss: 4.3066 - accuracy: 0.5000 - val_loss: 0.6108 - val_accuracy: 0.6429\n",
      "Epoch 3/25\n",
      "1/1 [==============================] - 0s 121ms/step - loss: 0.5905 - accuracy: 0.8462 - val_loss: 2.2162 - val_accuracy: 0.5000\n",
      "Epoch 4/25\n",
      "1/1 [==============================] - 0s 117ms/step - loss: 2.1342 - accuracy: 0.5000 - val_loss: 1.4303 - val_accuracy: 0.5000\n",
      "Epoch 5/25\n",
      "1/1 [==============================] - 0s 145ms/step - loss: 1.3626 - accuracy: 0.5000 - val_loss: 0.6547 - val_accuracy: 0.5714\n",
      "Epoch 6/25\n",
      "1/1 [==============================] - 0s 117ms/step - loss: 0.6321 - accuracy: 0.5769 - val_loss: 0.7992 - val_accuracy: 0.5000\n",
      "Epoch 7/25\n",
      "1/1 [==============================] - 0s 139ms/step - loss: 0.8253 - accuracy: 0.5000 - val_loss: 0.9574 - val_accuracy: 0.5000\n",
      "Epoch 8/25\n",
      "1/1 [==============================] - 0s 139ms/step - loss: 0.9920 - accuracy: 0.5000 - val_loss: 0.8310 - val_accuracy: 0.5000\n",
      "Epoch 9/25\n",
      "1/1 [==============================] - 0s 118ms/step - loss: 0.8434 - accuracy: 0.5000 - val_loss: 0.6466 - val_accuracy: 0.5714\n",
      "Epoch 10/25\n",
      "1/1 [==============================] - 0s 110ms/step - loss: 0.6242 - accuracy: 0.5000 - val_loss: 0.5613 - val_accuracy: 0.9286\n",
      "Epoch 11/25\n",
      "1/1 [==============================] - 0s 115ms/step - loss: 0.5183 - accuracy: 0.9231 - val_loss: 0.6205 - val_accuracy: 0.6429\n",
      "Epoch 12/25\n",
      "1/1 [==============================] - 0s 132ms/step - loss: 0.5569 - accuracy: 0.7308 - val_loss: 0.6606 - val_accuracy: 0.6429\n",
      "Epoch 13/25\n",
      "1/1 [==============================] - 0s 153ms/step - loss: 0.5923 - accuracy: 0.6538 - val_loss: 0.6268 - val_accuracy: 0.6429\n",
      "Epoch 14/25\n",
      "1/1 [==============================] - 0s 123ms/step - loss: 0.5687 - accuracy: 0.7308 - val_loss: 0.5470 - val_accuracy: 0.6429\n",
      "Epoch 15/25\n",
      "1/1 [==============================] - 0s 113ms/step - loss: 0.4939 - accuracy: 0.8077 - val_loss: 0.5056 - val_accuracy: 0.8571\n",
      "Epoch 16/25\n",
      "1/1 [==============================] - 0s 112ms/step - loss: 0.4587 - accuracy: 0.8462 - val_loss: 0.5278 - val_accuracy: 0.7143\n",
      "Epoch 17/25\n",
      "1/1 [==============================] - 0s 120ms/step - loss: 0.4584 - accuracy: 0.8462 - val_loss: 0.5070 - val_accuracy: 0.7857\n",
      "Epoch 18/25\n",
      "1/1 [==============================] - 0s 140ms/step - loss: 0.4543 - accuracy: 0.7692 - val_loss: 0.4558 - val_accuracy: 0.7857\n",
      "Epoch 19/25\n",
      "1/1 [==============================] - 0s 113ms/step - loss: 0.4169 - accuracy: 0.9231 - val_loss: 0.3991 - val_accuracy: 0.7857\n",
      "Epoch 20/25\n",
      "1/1 [==============================] - 0s 161ms/step - loss: 0.3771 - accuracy: 0.9231 - val_loss: 0.3675 - val_accuracy: 1.0000\n",
      "Epoch 21/25\n",
      "1/1 [==============================] - 0s 154ms/step - loss: 0.3455 - accuracy: 0.8846 - val_loss: 0.3508 - val_accuracy: 0.9286\n",
      "Epoch 22/25\n",
      "1/1 [==============================] - 0s 112ms/step - loss: 0.3406 - accuracy: 0.8846 - val_loss: 0.3387 - val_accuracy: 0.9286\n",
      "Epoch 23/25\n",
      "1/1 [==============================] - 0s 197ms/step - loss: 0.3463 - accuracy: 0.8462 - val_loss: 0.3075 - val_accuracy: 0.9286\n",
      "Epoch 24/25\n",
      "1/1 [==============================] - 0s 124ms/step - loss: 0.3587 - accuracy: 0.8462 - val_loss: 0.2980 - val_accuracy: 0.8571\n",
      "Epoch 25/25\n",
      "1/1 [==============================] - 0s 116ms/step - loss: 0.3387 - accuracy: 0.8462 - val_loss: 0.2965 - val_accuracy: 0.8571\n"
     ]
    }
   ],
   "source": [
    "history = cnn.fit(x = training_set, validation_data = test_set, epochs = 25)"
   ]
  },
  {
   "cell_type": "markdown",
   "metadata": {},
   "source": [
    "# PARTE 4 - Realizando predicción"
   ]
  },
  {
   "cell_type": "code",
   "execution_count": 13,
   "metadata": {},
   "outputs": [],
   "source": [
    "import numpy as np\n",
    "from keras.preprocessing import image\n",
    "\n",
    "def get_prediction(name = 'chi_o_muf_1.jpg'):\n",
    "    test_image = image.load_img('dataset_chi/single_prediction/' + name, target_size = (64, 64))\n",
    "    test_image = image.img_to_array(test_image)\n",
    "    test_image = np.expand_dims(test_image, axis = 0)\n",
    "    result = cnn.predict(test_image)\n",
    "    print(result)\n",
    "    training_set.class_indices\n",
    "    if result[0][0] == 1:\n",
    "        return 'muf'\n",
    "    return 'chi'"
   ]
  },
  {
   "cell_type": "code",
   "execution_count": 14,
   "metadata": {},
   "outputs": [
    {
     "name": "stdout",
     "output_type": "stream",
     "text": [
      "[[0.]]\n",
      "chi\n"
     ]
    }
   ],
   "source": [
    "print(get_prediction())"
   ]
  },
  {
   "cell_type": "markdown",
   "metadata": {},
   "source": [
    "La matriz que retorna el método predict es de 1 x 1 y puede contener un 0 o 1."
   ]
  },
  {
   "cell_type": "code",
   "execution_count": 17,
   "metadata": {},
   "outputs": [
    {
     "name": "stdout",
     "output_type": "stream",
     "text": [
      "[[0.]]\n",
      "chi_o_muf_1.jpg is a chi\n",
      "[[1.]]\n",
      "chi_o_muf_2.jpg is a muf\n",
      "[[1.]]\n",
      "chi_o_muf_3.jpg is a muf\n",
      "[[0.]]\n",
      "chi_o_muf_4.jpg is a chi\n",
      "[[0.]]\n",
      "chi_o_muf_5.jpg is a chi\n"
     ]
    }
   ],
   "source": [
    "for i in range(1,6):\n",
    "    f_name = 'chi_o_muf_' + str(i) + '.jpg'\n",
    "    print(f_name, 'is a', get_prediction(f_name))"
   ]
  },
  {
   "cell_type": "code",
   "execution_count": 26,
   "metadata": {},
   "outputs": [
    {
     "data": {
      "image/png": "[encoded data removed]",
      "text/plain": [
       "<Figure size 432x288 with 1 Axes>"
      ]
     },
     "metadata": {
      "needs_background": "light"
     },
     "output_type": "display_data"
    },
    {
     "data": {
      "image/png": "[encoded data removed]",
      "text/plain": [
       "<Figure size 432x288 with 1 Axes>"
      ]
     },
     "metadata": {
      "needs_background": "light"
     },
     "output_type": "display_data"
    }
   ],
   "source": [
    "from matplotlib import pyplot as plt\n",
    "plt.plot(history.history['accuracy'])\n",
    "plt.plot(history.history['val_accuracy'])\n",
    "plt.title('% Acierto')\n",
    "plt.xlabel('Época')\n",
    "plt.show()\n",
    "\n",
    "plt.plot(history.history['loss'])\n",
    "plt.plot(history.history['val_loss'])\n",
    "plt.title('Loss')\n",
    "plt.xlabel('Época')\n",
    "plt.show()"
   ]
  },
  {
   "cell_type": "code",
   "execution_count": null,
   "metadata": {},
   "outputs": [],
   "source": []
  }
 ],
 "metadata": {
  "kernelspec": {
   "display_name": "Python 3",
   "language": "python",
   "name": "python3"
  },
  "language_info": {
   "codemirror_mode": {
    "name": "ipython",
    "version": 3
   },
   "file_extension": ".py",
   "mimetype": "text/x-python",
   "name": "python",
   "nbconvert_exporter": "python",
   "pygments_lexer": "ipython3",
   "version": "3.6.10"
  }
 },
 "nbformat": 4,
 "nbformat_minor": 4
}
