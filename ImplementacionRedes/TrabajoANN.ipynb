{
 "cells": [
  {
   "cell_type": "markdown",
   "metadata": {},
   "source": [
    "# Actividad práctica - Curso Elementos de Machine Learning - UBB\n",
    "\n",
    "@author - Jazna Meza Hidalgo"
   ]
  },
  {
   "cell_type": "markdown",
   "metadata": {},
   "source": [
    "## Carga de datos y revisión general"
   ]
  },
  {
   "cell_type": "code",
   "execution_count": 1,
   "metadata": {},
   "outputs": [],
   "source": [
    "import pandas as pd\n",
    "x_data_frame = pd.read_csv(\"X.csv\", header=None)\n",
    "y_data_frame = pd.read_csv(\"Y.csv\", header=None)"
   ]
  },
  {
   "cell_type": "code",
   "execution_count": 2,
   "metadata": {},
   "outputs": [
    {
     "name": "stdout",
     "output_type": "stream",
     "text": [
      "(452, 279)\n",
      "(452, 1)\n"
     ]
    }
   ],
   "source": [
    "print(x_data_frame.shape)\n",
    "print(y_data_frame.shape)"
   ]
  },
  {
   "cell_type": "code",
   "execution_count": 3,
   "metadata": {},
   "outputs": [
    {
     "data": {
      "text/html": [
       "<div>\n",
       "<style scoped>\n",
       "    .dataframe tbody tr th:only-of-type {\n",
       "        vertical-align: middle;\n",
       "    }\n",
       "\n",
       "    .dataframe tbody tr th {\n",
       "        vertical-align: top;\n",
       "    }\n",
       "\n",
       "    .dataframe thead th {\n",
       "        text-align: right;\n",
       "    }\n",
       "</style>\n",
       "<table border=\"1\" class=\"dataframe\">\n",
       "  <thead>\n",
       "    <tr style=\"text-align: right;\">\n",
       "      <th></th>\n",
       "      <th>0</th>\n",
       "    </tr>\n",
       "  </thead>\n",
       "  <tbody>\n",
       "    <tr>\n",
       "      <th>count</th>\n",
       "      <td>452.000000</td>\n",
       "    </tr>\n",
       "    <tr>\n",
       "      <th>mean</th>\n",
       "      <td>3.880531</td>\n",
       "    </tr>\n",
       "    <tr>\n",
       "      <th>std</th>\n",
       "      <td>4.407097</td>\n",
       "    </tr>\n",
       "    <tr>\n",
       "      <th>min</th>\n",
       "      <td>1.000000</td>\n",
       "    </tr>\n",
       "    <tr>\n",
       "      <th>25%</th>\n",
       "      <td>1.000000</td>\n",
       "    </tr>\n",
       "    <tr>\n",
       "      <th>50%</th>\n",
       "      <td>1.000000</td>\n",
       "    </tr>\n",
       "    <tr>\n",
       "      <th>75%</th>\n",
       "      <td>6.000000</td>\n",
       "    </tr>\n",
       "    <tr>\n",
       "      <th>max</th>\n",
       "      <td>16.000000</td>\n",
       "    </tr>\n",
       "  </tbody>\n",
       "</table>\n",
       "</div>"
      ],
      "text/plain": [
       "                0\n",
       "count  452.000000\n",
       "mean     3.880531\n",
       "std      4.407097\n",
       "min      1.000000\n",
       "25%      1.000000\n",
       "50%      1.000000\n",
       "75%      6.000000\n",
       "max     16.000000"
      ]
     },
     "execution_count": 3,
     "metadata": {},
     "output_type": "execute_result"
    }
   ],
   "source": [
    "y_data_frame.describe()"
   ]
  },
  {
   "cell_type": "code",
   "execution_count": 5,
   "metadata": {},
   "outputs": [
    {
     "data": {
      "text/html": [
       "<div>\n",
       "<style scoped>\n",
       "    .dataframe tbody tr th:only-of-type {\n",
       "        vertical-align: middle;\n",
       "    }\n",
       "\n",
       "    .dataframe tbody tr th {\n",
       "        vertical-align: top;\n",
       "    }\n",
       "\n",
       "    .dataframe thead th {\n",
       "        text-align: right;\n",
       "    }\n",
       "</style>\n",
       "<table border=\"1\" class=\"dataframe\">\n",
       "  <thead>\n",
       "    <tr style=\"text-align: right;\">\n",
       "      <th></th>\n",
       "      <th>0</th>\n",
       "      <th>1</th>\n",
       "      <th>2</th>\n",
       "      <th>3</th>\n",
       "      <th>4</th>\n",
       "      <th>5</th>\n",
       "      <th>6</th>\n",
       "      <th>7</th>\n",
       "      <th>8</th>\n",
       "      <th>9</th>\n",
       "      <th>...</th>\n",
       "      <th>269</th>\n",
       "      <th>270</th>\n",
       "      <th>271</th>\n",
       "      <th>272</th>\n",
       "      <th>273</th>\n",
       "      <th>274</th>\n",
       "      <th>275</th>\n",
       "      <th>276</th>\n",
       "      <th>277</th>\n",
       "      <th>278</th>\n",
       "    </tr>\n",
       "  </thead>\n",
       "  <tbody>\n",
       "    <tr>\n",
       "      <th>count</th>\n",
       "      <td>452.000000</td>\n",
       "      <td>452.000000</td>\n",
       "      <td>452.000000</td>\n",
       "      <td>452.000000</td>\n",
       "      <td>452.000000</td>\n",
       "      <td>452.000000</td>\n",
       "      <td>452.000000</td>\n",
       "      <td>452.000000</td>\n",
       "      <td>452.000000</td>\n",
       "      <td>452.000000</td>\n",
       "      <td>...</td>\n",
       "      <td>452.000000</td>\n",
       "      <td>452.000000</td>\n",
       "      <td>452.000000</td>\n",
       "      <td>452.000000</td>\n",
       "      <td>452.000000</td>\n",
       "      <td>452.0</td>\n",
       "      <td>452.000000</td>\n",
       "      <td>452.000000</td>\n",
       "      <td>452.000000</td>\n",
       "      <td>452.000000</td>\n",
       "    </tr>\n",
       "    <tr>\n",
       "      <th>mean</th>\n",
       "      <td>46.471239</td>\n",
       "      <td>0.550885</td>\n",
       "      <td>166.188053</td>\n",
       "      <td>68.170354</td>\n",
       "      <td>88.920354</td>\n",
       "      <td>155.152655</td>\n",
       "      <td>367.207965</td>\n",
       "      <td>169.949115</td>\n",
       "      <td>90.004425</td>\n",
       "      <td>33.676991</td>\n",
       "      <td>...</td>\n",
       "      <td>-0.302434</td>\n",
       "      <td>-0.278982</td>\n",
       "      <td>9.048009</td>\n",
       "      <td>-1.457301</td>\n",
       "      <td>0.003982</td>\n",
       "      <td>0.0</td>\n",
       "      <td>0.514823</td>\n",
       "      <td>1.222345</td>\n",
       "      <td>19.326106</td>\n",
       "      <td>29.473230</td>\n",
       "    </tr>\n",
       "    <tr>\n",
       "      <th>std</th>\n",
       "      <td>16.466631</td>\n",
       "      <td>0.497955</td>\n",
       "      <td>37.170340</td>\n",
       "      <td>16.590803</td>\n",
       "      <td>15.364394</td>\n",
       "      <td>44.842283</td>\n",
       "      <td>33.385421</td>\n",
       "      <td>35.633072</td>\n",
       "      <td>25.826643</td>\n",
       "      <td>45.431434</td>\n",
       "      <td>...</td>\n",
       "      <td>0.603551</td>\n",
       "      <td>0.548876</td>\n",
       "      <td>3.472862</td>\n",
       "      <td>2.002430</td>\n",
       "      <td>0.050118</td>\n",
       "      <td>0.0</td>\n",
       "      <td>0.347531</td>\n",
       "      <td>1.426052</td>\n",
       "      <td>13.503922</td>\n",
       "      <td>18.493927</td>\n",
       "    </tr>\n",
       "    <tr>\n",
       "      <th>min</th>\n",
       "      <td>0.000000</td>\n",
       "      <td>0.000000</td>\n",
       "      <td>105.000000</td>\n",
       "      <td>6.000000</td>\n",
       "      <td>55.000000</td>\n",
       "      <td>0.000000</td>\n",
       "      <td>232.000000</td>\n",
       "      <td>108.000000</td>\n",
       "      <td>0.000000</td>\n",
       "      <td>-172.000000</td>\n",
       "      <td>...</td>\n",
       "      <td>-5.600000</td>\n",
       "      <td>-4.100000</td>\n",
       "      <td>0.000000</td>\n",
       "      <td>-28.600000</td>\n",
       "      <td>0.000000</td>\n",
       "      <td>0.0</td>\n",
       "      <td>-0.800000</td>\n",
       "      <td>-6.000000</td>\n",
       "      <td>-44.200000</td>\n",
       "      <td>-38.600000</td>\n",
       "    </tr>\n",
       "    <tr>\n",
       "      <th>25%</th>\n",
       "      <td>36.000000</td>\n",
       "      <td>0.000000</td>\n",
       "      <td>160.000000</td>\n",
       "      <td>59.000000</td>\n",
       "      <td>80.000000</td>\n",
       "      <td>142.000000</td>\n",
       "      <td>350.000000</td>\n",
       "      <td>148.000000</td>\n",
       "      <td>79.000000</td>\n",
       "      <td>3.750000</td>\n",
       "      <td>...</td>\n",
       "      <td>-0.500000</td>\n",
       "      <td>-0.425000</td>\n",
       "      <td>6.600000</td>\n",
       "      <td>-2.100000</td>\n",
       "      <td>0.000000</td>\n",
       "      <td>0.0</td>\n",
       "      <td>0.400000</td>\n",
       "      <td>0.500000</td>\n",
       "      <td>11.450000</td>\n",
       "      <td>17.550000</td>\n",
       "    </tr>\n",
       "    <tr>\n",
       "      <th>50%</th>\n",
       "      <td>47.000000</td>\n",
       "      <td>1.000000</td>\n",
       "      <td>164.000000</td>\n",
       "      <td>68.000000</td>\n",
       "      <td>86.000000</td>\n",
       "      <td>157.000000</td>\n",
       "      <td>367.000000</td>\n",
       "      <td>162.000000</td>\n",
       "      <td>91.000000</td>\n",
       "      <td>40.000000</td>\n",
       "      <td>...</td>\n",
       "      <td>-0.200000</td>\n",
       "      <td>0.000000</td>\n",
       "      <td>8.800000</td>\n",
       "      <td>-1.100000</td>\n",
       "      <td>0.000000</td>\n",
       "      <td>0.0</td>\n",
       "      <td>0.500000</td>\n",
       "      <td>1.350000</td>\n",
       "      <td>18.100000</td>\n",
       "      <td>27.900000</td>\n",
       "    </tr>\n",
       "    <tr>\n",
       "      <th>75%</th>\n",
       "      <td>58.000000</td>\n",
       "      <td>1.000000</td>\n",
       "      <td>170.000000</td>\n",
       "      <td>79.000000</td>\n",
       "      <td>94.000000</td>\n",
       "      <td>175.000000</td>\n",
       "      <td>384.000000</td>\n",
       "      <td>179.000000</td>\n",
       "      <td>102.000000</td>\n",
       "      <td>66.000000</td>\n",
       "      <td>...</td>\n",
       "      <td>0.000000</td>\n",
       "      <td>0.000000</td>\n",
       "      <td>11.200000</td>\n",
       "      <td>0.000000</td>\n",
       "      <td>0.000000</td>\n",
       "      <td>0.0</td>\n",
       "      <td>0.700000</td>\n",
       "      <td>2.100000</td>\n",
       "      <td>25.825000</td>\n",
       "      <td>41.125000</td>\n",
       "    </tr>\n",
       "    <tr>\n",
       "      <th>max</th>\n",
       "      <td>83.000000</td>\n",
       "      <td>1.000000</td>\n",
       "      <td>780.000000</td>\n",
       "      <td>176.000000</td>\n",
       "      <td>188.000000</td>\n",
       "      <td>524.000000</td>\n",
       "      <td>509.000000</td>\n",
       "      <td>381.000000</td>\n",
       "      <td>205.000000</td>\n",
       "      <td>169.000000</td>\n",
       "      <td>...</td>\n",
       "      <td>2.700000</td>\n",
       "      <td>0.000000</td>\n",
       "      <td>23.600000</td>\n",
       "      <td>0.000000</td>\n",
       "      <td>0.800000</td>\n",
       "      <td>0.0</td>\n",
       "      <td>2.400000</td>\n",
       "      <td>6.000000</td>\n",
       "      <td>88.800000</td>\n",
       "      <td>115.900000</td>\n",
       "    </tr>\n",
       "  </tbody>\n",
       "</table>\n",
       "<p>8 rows × 279 columns</p>\n",
       "</div>"
      ],
      "text/plain": [
       "              0           1           2           3           4           5    \\\n",
       "count  452.000000  452.000000  452.000000  452.000000  452.000000  452.000000   \n",
       "mean    46.471239    0.550885  166.188053   68.170354   88.920354  155.152655   \n",
       "std     16.466631    0.497955   37.170340   16.590803   15.364394   44.842283   \n",
       "min      0.000000    0.000000  105.000000    6.000000   55.000000    0.000000   \n",
       "25%     36.000000    0.000000  160.000000   59.000000   80.000000  142.000000   \n",
       "50%     47.000000    1.000000  164.000000   68.000000   86.000000  157.000000   \n",
       "75%     58.000000    1.000000  170.000000   79.000000   94.000000  175.000000   \n",
       "max     83.000000    1.000000  780.000000  176.000000  188.000000  524.000000   \n",
       "\n",
       "              6           7           8           9    ...         269  \\\n",
       "count  452.000000  452.000000  452.000000  452.000000  ...  452.000000   \n",
       "mean   367.207965  169.949115   90.004425   33.676991  ...   -0.302434   \n",
       "std     33.385421   35.633072   25.826643   45.431434  ...    0.603551   \n",
       "min    232.000000  108.000000    0.000000 -172.000000  ...   -5.600000   \n",
       "25%    350.000000  148.000000   79.000000    3.750000  ...   -0.500000   \n",
       "50%    367.000000  162.000000   91.000000   40.000000  ...   -0.200000   \n",
       "75%    384.000000  179.000000  102.000000   66.000000  ...    0.000000   \n",
       "max    509.000000  381.000000  205.000000  169.000000  ...    2.700000   \n",
       "\n",
       "              270         271         272         273    274         275  \\\n",
       "count  452.000000  452.000000  452.000000  452.000000  452.0  452.000000   \n",
       "mean    -0.278982    9.048009   -1.457301    0.003982    0.0    0.514823   \n",
       "std      0.548876    3.472862    2.002430    0.050118    0.0    0.347531   \n",
       "min     -4.100000    0.000000  -28.600000    0.000000    0.0   -0.800000   \n",
       "25%     -0.425000    6.600000   -2.100000    0.000000    0.0    0.400000   \n",
       "50%      0.000000    8.800000   -1.100000    0.000000    0.0    0.500000   \n",
       "75%      0.000000   11.200000    0.000000    0.000000    0.0    0.700000   \n",
       "max      0.000000   23.600000    0.000000    0.800000    0.0    2.400000   \n",
       "\n",
       "              276         277         278  \n",
       "count  452.000000  452.000000  452.000000  \n",
       "mean     1.222345   19.326106   29.473230  \n",
       "std      1.426052   13.503922   18.493927  \n",
       "min     -6.000000  -44.200000  -38.600000  \n",
       "25%      0.500000   11.450000   17.550000  \n",
       "50%      1.350000   18.100000   27.900000  \n",
       "75%      2.100000   25.825000   41.125000  \n",
       "max      6.000000   88.800000  115.900000  \n",
       "\n",
       "[8 rows x 279 columns]"
      ]
     },
     "execution_count": 5,
     "metadata": {},
     "output_type": "execute_result"
    }
   ],
   "source": [
    "x_data_frame.describe()"
   ]
  },
  {
   "cell_type": "markdown",
   "metadata": {},
   "source": [
    "## Revisión de valores nulos"
   ]
  },
  {
   "cell_type": "code",
   "execution_count": 6,
   "metadata": {},
   "outputs": [
    {
     "name": "stdout",
     "output_type": "stream",
     "text": [
      "Columna # 10 eliminada por contar con 8 nulos\n",
      "Columna # 11 eliminada por contar con 22 nulos\n",
      "Columna # 12 eliminada por contar con 1 nulos\n",
      "Columna # 13 eliminada por contar con 376 nulos\n",
      "Columna # 14 eliminada por contar con 1 nulos\n"
     ]
    }
   ],
   "source": [
    "# Valores nulos\n",
    "for feature in x_data_frame.columns:\n",
    "    if x_data_frame[feature].isna().sum() > 0:\n",
    "        print('Columna #', feature, 'eliminada por contar con', x_data_frame[feature].isna().sum(), 'nulos')\n",
    "        del(x_data_frame[feature])"
   ]
  },
  {
   "cell_type": "code",
   "execution_count": 7,
   "metadata": {},
   "outputs": [
    {
     "data": {
      "text/plain": [
       "0"
      ]
     },
     "execution_count": 7,
     "metadata": {},
     "output_type": "execute_result"
    }
   ],
   "source": [
    "y_data_frame[0].isna().sum()"
   ]
  },
  {
   "cell_type": "markdown",
   "metadata": {},
   "source": [
    "## Selección de data de entrenamiento y validación de acuerdo a requerimiento"
   ]
  },
  {
   "cell_type": "code",
   "execution_count": 8,
   "metadata": {},
   "outputs": [],
   "source": [
    "y_train = y_data_frame.iloc[:400]\n",
    "y_test = y_data_frame.iloc[400:]"
   ]
  },
  {
   "cell_type": "code",
   "execution_count": 9,
   "metadata": {},
   "outputs": [],
   "source": [
    "X_train = x_data_frame.iloc[:400]\n",
    "X_test = x_data_frame.iloc[400:]"
   ]
  },
  {
   "cell_type": "markdown",
   "metadata": {},
   "source": [
    "## Estandarización de los datos"
   ]
  },
  {
   "cell_type": "code",
   "execution_count": 10,
   "metadata": {},
   "outputs": [],
   "source": [
    "from sklearn.preprocessing import StandardScaler\n",
    "sc = StandardScaler()\n",
    "X_train = sc.fit_transform(X_train)\n",
    "X_test = sc.transform(X_test)"
   ]
  },
  {
   "cell_type": "code",
   "execution_count": 11,
   "metadata": {},
   "outputs": [
    {
     "data": {
      "text/html": [
       "<div>\n",
       "<style scoped>\n",
       "    .dataframe tbody tr th:only-of-type {\n",
       "        vertical-align: middle;\n",
       "    }\n",
       "\n",
       "    .dataframe tbody tr th {\n",
       "        vertical-align: top;\n",
       "    }\n",
       "\n",
       "    .dataframe thead th {\n",
       "        text-align: right;\n",
       "    }\n",
       "</style>\n",
       "<table border=\"1\" class=\"dataframe\">\n",
       "  <thead>\n",
       "    <tr style=\"text-align: right;\">\n",
       "      <th></th>\n",
       "      <th>0</th>\n",
       "      <th>1</th>\n",
       "      <th>2</th>\n",
       "      <th>3</th>\n",
       "      <th>4</th>\n",
       "      <th>5</th>\n",
       "      <th>6</th>\n",
       "      <th>7</th>\n",
       "      <th>8</th>\n",
       "      <th>9</th>\n",
       "      <th>...</th>\n",
       "      <th>264</th>\n",
       "      <th>265</th>\n",
       "      <th>266</th>\n",
       "      <th>267</th>\n",
       "      <th>268</th>\n",
       "      <th>269</th>\n",
       "      <th>270</th>\n",
       "      <th>271</th>\n",
       "      <th>272</th>\n",
       "      <th>273</th>\n",
       "    </tr>\n",
       "  </thead>\n",
       "  <tbody>\n",
       "    <tr>\n",
       "      <th>count</th>\n",
       "      <td>4.000000e+02</td>\n",
       "      <td>4.000000e+02</td>\n",
       "      <td>4.000000e+02</td>\n",
       "      <td>4.000000e+02</td>\n",
       "      <td>4.000000e+02</td>\n",
       "      <td>4.000000e+02</td>\n",
       "      <td>4.000000e+02</td>\n",
       "      <td>4.000000e+02</td>\n",
       "      <td>4.000000e+02</td>\n",
       "      <td>4.000000e+02</td>\n",
       "      <td>...</td>\n",
       "      <td>4.000000e+02</td>\n",
       "      <td>4.000000e+02</td>\n",
       "      <td>4.000000e+02</td>\n",
       "      <td>4.000000e+02</td>\n",
       "      <td>4.000000e+02</td>\n",
       "      <td>400.0</td>\n",
       "      <td>4.000000e+02</td>\n",
       "      <td>4.000000e+02</td>\n",
       "      <td>4.000000e+02</td>\n",
       "      <td>4.000000e+02</td>\n",
       "    </tr>\n",
       "    <tr>\n",
       "      <th>mean</th>\n",
       "      <td>-7.105427e-17</td>\n",
       "      <td>-6.217249e-17</td>\n",
       "      <td>2.331468e-16</td>\n",
       "      <td>-7.993606e-17</td>\n",
       "      <td>4.618528e-16</td>\n",
       "      <td>-5.995204e-17</td>\n",
       "      <td>1.421085e-16</td>\n",
       "      <td>1.776357e-16</td>\n",
       "      <td>2.442491e-16</td>\n",
       "      <td>3.774758e-17</td>\n",
       "      <td>...</td>\n",
       "      <td>-5.107026e-17</td>\n",
       "      <td>-9.436896e-17</td>\n",
       "      <td>2.731149e-16</td>\n",
       "      <td>-9.769963e-17</td>\n",
       "      <td>-2.220446e-18</td>\n",
       "      <td>0.0</td>\n",
       "      <td>3.663736e-17</td>\n",
       "      <td>9.769963e-17</td>\n",
       "      <td>-8.881784e-17</td>\n",
       "      <td>-1.776357e-16</td>\n",
       "    </tr>\n",
       "    <tr>\n",
       "      <th>std</th>\n",
       "      <td>1.001252e+00</td>\n",
       "      <td>1.001252e+00</td>\n",
       "      <td>1.001252e+00</td>\n",
       "      <td>1.001252e+00</td>\n",
       "      <td>1.001252e+00</td>\n",
       "      <td>1.001252e+00</td>\n",
       "      <td>1.001252e+00</td>\n",
       "      <td>1.001252e+00</td>\n",
       "      <td>1.001252e+00</td>\n",
       "      <td>1.001252e+00</td>\n",
       "      <td>...</td>\n",
       "      <td>1.001252e+00</td>\n",
       "      <td>1.001252e+00</td>\n",
       "      <td>1.001252e+00</td>\n",
       "      <td>1.001252e+00</td>\n",
       "      <td>1.001252e+00</td>\n",
       "      <td>0.0</td>\n",
       "      <td>1.001252e+00</td>\n",
       "      <td>1.001252e+00</td>\n",
       "      <td>1.001252e+00</td>\n",
       "      <td>1.001252e+00</td>\n",
       "    </tr>\n",
       "    <tr>\n",
       "      <th>min</th>\n",
       "      <td>-2.944738e+00</td>\n",
       "      <td>-1.099975e+00</td>\n",
       "      <td>-1.585991e+00</td>\n",
       "      <td>-3.868858e+00</td>\n",
       "      <td>-1.892161e+00</td>\n",
       "      <td>-3.412762e+00</td>\n",
       "      <td>-4.020728e+00</td>\n",
       "      <td>-1.716624e+00</td>\n",
       "      <td>-3.439315e+00</td>\n",
       "      <td>-4.599850e+00</td>\n",
       "      <td>...</td>\n",
       "      <td>-8.906901e+00</td>\n",
       "      <td>-7.431288e+00</td>\n",
       "      <td>-2.650553e+00</td>\n",
       "      <td>-3.897009e+00</td>\n",
       "      <td>-8.459379e-02</td>\n",
       "      <td>0.0</td>\n",
       "      <td>-3.601959e+00</td>\n",
       "      <td>-5.058843e+00</td>\n",
       "      <td>-2.761678e+00</td>\n",
       "      <td>-3.859153e+00</td>\n",
       "    </tr>\n",
       "    <tr>\n",
       "      <th>25%</th>\n",
       "      <td>-6.902733e-01</td>\n",
       "      <td>-1.099975e+00</td>\n",
       "      <td>-1.785527e-01</td>\n",
       "      <td>-5.608328e-01</td>\n",
       "      <td>-6.027838e-01</td>\n",
       "      <td>-3.092061e-01</td>\n",
       "      <td>-5.113181e-01</td>\n",
       "      <td>-6.086780e-01</td>\n",
       "      <td>-4.227069e-01</td>\n",
       "      <td>-6.964182e-01</td>\n",
       "      <td>...</td>\n",
       "      <td>-3.494638e-01</td>\n",
       "      <td>-4.467212e-01</td>\n",
       "      <td>-6.901964e-01</td>\n",
       "      <td>-5.998570e-01</td>\n",
       "      <td>-8.459379e-02</td>\n",
       "      <td>0.0</td>\n",
       "      <td>-3.496258e-01</td>\n",
       "      <td>-4.738422e-01</td>\n",
       "      <td>-6.291827e-01</td>\n",
       "      <td>-6.790933e-01</td>\n",
       "    </tr>\n",
       "    <tr>\n",
       "      <th>50%</th>\n",
       "      <td>-1.409041e-03</td>\n",
       "      <td>9.091117e-01</td>\n",
       "      <td>-5.060381e-02</td>\n",
       "      <td>5.176447e-02</td>\n",
       "      <td>-1.616811e-01</td>\n",
       "      <td>4.658070e-02</td>\n",
       "      <td>2.401567e-02</td>\n",
       "      <td>-2.347461e-01</td>\n",
       "      <td>3.551196e-02</td>\n",
       "      <td>1.301909e-01</td>\n",
       "      <td>...</td>\n",
       "      <td>1.985494e-01</td>\n",
       "      <td>5.233575e-01</td>\n",
       "      <td>-5.685035e-02</td>\n",
       "      <td>1.494959e-01</td>\n",
       "      <td>-8.459379e-02</td>\n",
       "      <td>0.0</td>\n",
       "      <td>-5.395916e-02</td>\n",
       "      <td>9.046560e-02</td>\n",
       "      <td>-1.163039e-01</td>\n",
       "      <td>-8.077950e-02</td>\n",
       "    </tr>\n",
       "    <tr>\n",
       "      <th>75%</th>\n",
       "      <td>7.031113e-01</td>\n",
       "      <td>9.091117e-01</td>\n",
       "      <td>7.734513e-02</td>\n",
       "      <td>6.643617e-01</td>\n",
       "      <td>3.642491e-01</td>\n",
       "      <td>4.187884e-01</td>\n",
       "      <td>5.073031e-01</td>\n",
       "      <td>2.292064e-01</td>\n",
       "      <td>4.555459e-01</td>\n",
       "      <td>7.271864e-01</td>\n",
       "      <td>...</td>\n",
       "      <td>5.357883e-01</td>\n",
       "      <td>5.233575e-01</td>\n",
       "      <td>6.368144e-01</td>\n",
       "      <td>9.737840e-01</td>\n",
       "      <td>-8.459379e-02</td>\n",
       "      <td>0.0</td>\n",
       "      <td>5.373741e-01</td>\n",
       "      <td>6.547734e-01</td>\n",
       "      <td>4.871962e-01</td>\n",
       "      <td>6.589020e-01</td>\n",
       "    </tr>\n",
       "    <tr>\n",
       "      <th>max</th>\n",
       "      <td>2.253056e+00</td>\n",
       "      <td>9.091117e-01</td>\n",
       "      <td>1.568712e+01</td>\n",
       "      <td>6.545295e+00</td>\n",
       "      <td>6.726308e+00</td>\n",
       "      <td>8.059994e+00</td>\n",
       "      <td>4.217464e+00</td>\n",
       "      <td>5.845110e+00</td>\n",
       "      <td>4.388591e+00</td>\n",
       "      <td>3.092207e+00</td>\n",
       "      <td>...</td>\n",
       "      <td>3.739558e+00</td>\n",
       "      <td>5.233575e-01</td>\n",
       "      <td>4.467050e+00</td>\n",
       "      <td>9.737840e-01</td>\n",
       "      <td>1.495430e+01</td>\n",
       "      <td>0.0</td>\n",
       "      <td>5.563707e+00</td>\n",
       "      <td>3.405774e+00</td>\n",
       "      <td>5.351832e+00</td>\n",
       "      <td>3.920355e+00</td>\n",
       "    </tr>\n",
       "  </tbody>\n",
       "</table>\n",
       "<p>8 rows × 274 columns</p>\n",
       "</div>"
      ],
      "text/plain": [
       "                0             1             2             3             4    \\\n",
       "count  4.000000e+02  4.000000e+02  4.000000e+02  4.000000e+02  4.000000e+02   \n",
       "mean  -7.105427e-17 -6.217249e-17  2.331468e-16 -7.993606e-17  4.618528e-16   \n",
       "std    1.001252e+00  1.001252e+00  1.001252e+00  1.001252e+00  1.001252e+00   \n",
       "min   -2.944738e+00 -1.099975e+00 -1.585991e+00 -3.868858e+00 -1.892161e+00   \n",
       "25%   -6.902733e-01 -1.099975e+00 -1.785527e-01 -5.608328e-01 -6.027838e-01   \n",
       "50%   -1.409041e-03  9.091117e-01 -5.060381e-02  5.176447e-02 -1.616811e-01   \n",
       "75%    7.031113e-01  9.091117e-01  7.734513e-02  6.643617e-01  3.642491e-01   \n",
       "max    2.253056e+00  9.091117e-01  1.568712e+01  6.545295e+00  6.726308e+00   \n",
       "\n",
       "                5             6             7             8             9    \\\n",
       "count  4.000000e+02  4.000000e+02  4.000000e+02  4.000000e+02  4.000000e+02   \n",
       "mean  -5.995204e-17  1.421085e-16  1.776357e-16  2.442491e-16  3.774758e-17   \n",
       "std    1.001252e+00  1.001252e+00  1.001252e+00  1.001252e+00  1.001252e+00   \n",
       "min   -3.412762e+00 -4.020728e+00 -1.716624e+00 -3.439315e+00 -4.599850e+00   \n",
       "25%   -3.092061e-01 -5.113181e-01 -6.086780e-01 -4.227069e-01 -6.964182e-01   \n",
       "50%    4.658070e-02  2.401567e-02 -2.347461e-01  3.551196e-02  1.301909e-01   \n",
       "75%    4.187884e-01  5.073031e-01  2.292064e-01  4.555459e-01  7.271864e-01   \n",
       "max    8.059994e+00  4.217464e+00  5.845110e+00  4.388591e+00  3.092207e+00   \n",
       "\n",
       "       ...           264           265           266           267  \\\n",
       "count  ...  4.000000e+02  4.000000e+02  4.000000e+02  4.000000e+02   \n",
       "mean   ... -5.107026e-17 -9.436896e-17  2.731149e-16 -9.769963e-17   \n",
       "std    ...  1.001252e+00  1.001252e+00  1.001252e+00  1.001252e+00   \n",
       "min    ... -8.906901e+00 -7.431288e+00 -2.650553e+00 -3.897009e+00   \n",
       "25%    ... -3.494638e-01 -4.467212e-01 -6.901964e-01 -5.998570e-01   \n",
       "50%    ...  1.985494e-01  5.233575e-01 -5.685035e-02  1.494959e-01   \n",
       "75%    ...  5.357883e-01  5.233575e-01  6.368144e-01  9.737840e-01   \n",
       "max    ...  3.739558e+00  5.233575e-01  4.467050e+00  9.737840e-01   \n",
       "\n",
       "                268    269           270           271           272  \\\n",
       "count  4.000000e+02  400.0  4.000000e+02  4.000000e+02  4.000000e+02   \n",
       "mean  -2.220446e-18    0.0  3.663736e-17  9.769963e-17 -8.881784e-17   \n",
       "std    1.001252e+00    0.0  1.001252e+00  1.001252e+00  1.001252e+00   \n",
       "min   -8.459379e-02    0.0 -3.601959e+00 -5.058843e+00 -2.761678e+00   \n",
       "25%   -8.459379e-02    0.0 -3.496258e-01 -4.738422e-01 -6.291827e-01   \n",
       "50%   -8.459379e-02    0.0 -5.395916e-02  9.046560e-02 -1.163039e-01   \n",
       "75%   -8.459379e-02    0.0  5.373741e-01  6.547734e-01  4.871962e-01   \n",
       "max    1.495430e+01    0.0  5.563707e+00  3.405774e+00  5.351832e+00   \n",
       "\n",
       "                273  \n",
       "count  4.000000e+02  \n",
       "mean  -1.776357e-16  \n",
       "std    1.001252e+00  \n",
       "min   -3.859153e+00  \n",
       "25%   -6.790933e-01  \n",
       "50%   -8.077950e-02  \n",
       "75%    6.589020e-01  \n",
       "max    3.920355e+00  \n",
       "\n",
       "[8 rows x 274 columns]"
      ]
     },
     "execution_count": 11,
     "metadata": {},
     "output_type": "execute_result"
    }
   ],
   "source": [
    "pd.DataFrame(X_train).describe()"
   ]
  },
  {
   "cell_type": "code",
   "execution_count": 12,
   "metadata": {},
   "outputs": [
    {
     "name": "stdout",
     "output_type": "stream",
     "text": [
      "X_train (400, 274)\n",
      "X_test (52, 274)\n",
      "y_train (400, 1)\n",
      "y_test (52, 1)\n"
     ]
    }
   ],
   "source": [
    "print(\"X_train\", X_train.shape)\n",
    "print(\"X_test\", X_test.shape)\n",
    "print(\"y_train\", y_train.shape)\n",
    "print(\"y_test\", y_test.shape)"
   ]
  },
  {
   "cell_type": "markdown",
   "metadata": {},
   "source": [
    "## Revisión de distribución de datos de entrenamiento y prueba"
   ]
  },
  {
   "cell_type": "code",
   "execution_count": 173,
   "metadata": {},
   "outputs": [],
   "source": [
    "def verFrecuencias(data):\n",
    "    df1 = pd.value_counts(data).to_frame().reset_index()\n",
    "    df1 = df1.rename(columns={\"index\":\"CLASE\",0:\"FRECUENCIA\"})\n",
    "    print(df1.sort_values(by = \"CLASE\"))"
   ]
  },
  {
   "cell_type": "code",
   "execution_count": 176,
   "metadata": {},
   "outputs": [
    {
     "name": "stdout",
     "output_type": "stream",
     "text": [
      "FRECUENCIAS DATA COMPLETA\n",
      "    CLASE  FRECUENCIA\n",
      "0     1.0         245\n",
      "2     2.0          44\n",
      "6     3.0          15\n",
      "5     4.0          15\n",
      "7     5.0          13\n",
      "3     6.0          25\n",
      "11    7.0           3\n",
      "12    8.0           2\n",
      "8     9.0           9\n",
      "1    10.0          50\n",
      "10   14.0           4\n",
      "9    15.0           5\n",
      "4    16.0          22\n",
      "FRECUENCIAS DATOS ENTRENAMIENTO\n",
      "    CLASE  FRECUENCIA\n",
      "0     1.0         212\n",
      "2     2.0          42\n",
      "6     3.0          14\n",
      "5     4.0          14\n",
      "7     5.0          12\n",
      "3     6.0          24\n",
      "11    7.0           3\n",
      "12    8.0           2\n",
      "8     9.0           8\n",
      "1    10.0          43\n",
      "10   14.0           3\n",
      "9    15.0           4\n",
      "4    16.0          19\n",
      "FRECUENCIAS DATOS PRUEBA\n",
      "    CLASE  FRECUENCIA\n",
      "0     1.0          33\n",
      "3     2.0           2\n",
      "4     3.0           1\n",
      "8     4.0           1\n",
      "9     5.0           1\n",
      "5     6.0           1\n",
      "6     9.0           1\n",
      "1    10.0           7\n",
      "10   14.0           1\n",
      "7    15.0           1\n",
      "2    16.0           3\n"
     ]
    }
   ],
   "source": [
    "## Muestra las tablas de frecuencia\n",
    "print(\"FRECUENCIAS DATA COMPLETA\")\n",
    "verFrecuencias(y_data_frame[0])   \n",
    "print(\"FRECUENCIAS DATOS ENTRENAMIENTO\")\n",
    "verFrecuencias(y_train[0])  \n",
    "print(\"FRECUENCIAS DATOS PRUEBA\")\n",
    "verFrecuencias(y_test[0])  "
   ]
  },
  {
   "cell_type": "code",
   "execution_count": 158,
   "metadata": {},
   "outputs": [
    {
     "data": {
      "image/png": "[encoded data removed]",
      "text/plain": [
       "<Figure size 432x288 with 1 Axes>"
      ]
     },
     "metadata": {
      "needs_background": "light"
     },
     "output_type": "display_data"
    },
    {
     "data": {
      "image/png": "[encoded data removed]",
      "text/plain": [
       "<Figure size 432x288 with 1 Axes>"
      ]
     },
     "metadata": {
      "needs_background": "light"
     },
     "output_type": "display_data"
    },
    {
     "data": {
      "image/png": "[encoded data removed]",
      "text/plain": [
       "<Figure size 432x288 with 1 Axes>"
      ]
     },
     "metadata": {
      "needs_background": "light"
     },
     "output_type": "display_data"
    }
   ],
   "source": [
    "from matplotlib import pyplot as plt\n",
    "def histogramaClases(data, title = \"\"):\n",
    "    datos = pd.Series(np.array(data)) \n",
    "    datos.plot.hist(bins=16, color='#F2AB6D', rwidth=0.85) \n",
    "    plt.ylabel('Frecuencia')\n",
    "    plt.xlabel('Clases')\n",
    "    plt.title('Histograma de clases ' + title)\n",
    "    plt.show()\n",
    "    \n",
    "# Genera las gráficas\n",
    "histogramaClases(y_train[0], title = \"(entrenamiento)\")\n",
    "histogramaClases(y_test[0], title = \"(prueba)\")\n",
    "histogramaClases(y_data_frame[0], title = \"(data completa)\")"
   ]
  },
  {
   "cell_type": "markdown",
   "metadata": {},
   "source": [
    "## Generación del vector binario"
   ]
  },
  {
   "cell_type": "code",
   "execution_count": 75,
   "metadata": {},
   "outputs": [],
   "source": [
    "import numpy as np\n",
    "from tensorflow.keras.utils import to_categorical\n",
    "\n",
    "y_train_c = to_categorical(np.array(y_train[0]))"
   ]
  },
  {
   "cell_type": "code",
   "execution_count": 76,
   "metadata": {},
   "outputs": [
    {
     "data": {
      "text/plain": [
       "array([0., 0., 0., 0., 0., 0., 0., 0., 1., 0., 0., 0., 0., 0., 0., 0., 0.],\n",
       "      dtype=float32)"
      ]
     },
     "execution_count": 76,
     "metadata": {},
     "output_type": "execute_result"
    }
   ],
   "source": [
    "y_train_c[0]"
   ]
  },
  {
   "cell_type": "code",
   "execution_count": 77,
   "metadata": {},
   "outputs": [
    {
     "data": {
      "text/plain": [
       "array([0., 0., 0., 0., 0., 0., 0., 0., 0., 0., 1., 0., 0., 0., 0., 0., 0.],\n",
       "      dtype=float32)"
      ]
     },
     "execution_count": 77,
     "metadata": {},
     "output_type": "execute_result"
    }
   ],
   "source": [
    "y_test_c = to_categorical(np.array(y_test[0]))\n",
    "y_test_c[0]"
   ]
  },
  {
   "cell_type": "code",
   "execution_count": 82,
   "metadata": {},
   "outputs": [
    {
     "data": {
      "text/plain": [
       "(52, 17)"
      ]
     },
     "execution_count": 82,
     "metadata": {},
     "output_type": "execute_result"
    }
   ],
   "source": [
    "y_test_c.shape"
   ]
  },
  {
   "cell_type": "markdown",
   "metadata": {},
   "source": [
    "# Trabajando con los modelos"
   ]
  },
  {
   "cell_type": "code",
   "execution_count": 33,
   "metadata": {},
   "outputs": [],
   "source": [
    "import tensorflow as tf"
   ]
  },
  {
   "cell_type": "code",
   "execution_count": 34,
   "metadata": {},
   "outputs": [
    {
     "data": {
      "text/plain": [
       "'2.3.1'"
      ]
     },
     "execution_count": 34,
     "metadata": {},
     "output_type": "execute_result"
    }
   ],
   "source": [
    "tf.__version__"
   ]
  },
  {
   "cell_type": "code",
   "execution_count": 19,
   "metadata": {},
   "outputs": [
    {
     "name": "stderr",
     "output_type": "stream",
     "text": [
      "Using TensorFlow backend.\n"
     ]
    }
   ],
   "source": [
    "from sklearn.model_selection import cross_val_score\n",
    "from sklearn.model_selection import KFold\n",
    "from keras.wrappers.scikit_learn import KerasRegressor\n",
    "from keras.models import Sequential\n",
    "from keras.layers import Dense"
   ]
  },
  {
   "cell_type": "markdown",
   "metadata": {},
   "source": [
    "## Definición de algunas funciones\n",
    "\n",
    "Función usada para graficar los resultados de las redes que se van a construir"
   ]
  },
  {
   "cell_type": "code",
   "execution_count": 24,
   "metadata": {},
   "outputs": [],
   "source": [
    "def graficaResultados(history, mean = \"mean_squared_error\", titleMean = \"MSE\", includeMean = False):\n",
    "    plt.plot(history.history['accuracy'])\n",
    "    plt.title('% Acierto')\n",
    "    plt.xlabel('Época')\n",
    "    plt.show()\n",
    "    \n",
    "    plt.plot(history.history['loss'])\n",
    "    plt.title('loss')\n",
    "    plt.xlabel('Época')\n",
    "    plt.show()\n",
    "    \n",
    "    if includeMean: \n",
    "        plt.plot(history.history[mean])\n",
    "        plt.title(titleMean)\n",
    "        plt.xlabel('Época')\n",
    "        plt.show()\n",
    "        \n",
    "def makePredictions(modelo, data_test):\n",
    "    return modelo.predict(data_test)"
   ]
  },
  {
   "cell_type": "markdown",
   "metadata": {},
   "source": [
    "## Aplicando los modelos\n",
    "### Primera arquitectura de red"
   ]
  },
  {
   "cell_type": "code",
   "execution_count": 20,
   "metadata": {},
   "outputs": [],
   "source": [
    "# Arquitectura base (una capa de entrada y una capa de salida)\n",
    "def baseline_model():\n",
    "    # Crear el modelo\n",
    "    model = tf.keras.models.Sequential(name = \"ANN_Base\")\n",
    "    # Agrega capa de entrada\n",
    "    model.add(tf.keras.layers.Dense(17, activation='sigmoid'))   \n",
    "    # Capa de salida\n",
    "    model.add(tf.keras.layers.Dense(17, activation='softmax'))\n",
    "    # Compilación del modelo\n",
    "    model.compile(loss='categorical_crossentropy', optimizer='sgd', metrics=['accuracy'])\n",
    "    return model"
   ]
  },
  {
   "cell_type": "code",
   "execution_count": 129,
   "metadata": {},
   "outputs": [
    {
     "name": "stdout",
     "output_type": "stream",
     "text": [
      "WARNING:tensorflow:6 out of the last 11 calls to <function Model.make_test_function.<locals>.test_function at 0x7f908a7b7488> triggered tf.function retracing. Tracing is expensive and the excessive number of tracings could be due to (1) creating @tf.function repeatedly in a loop, (2) passing tensors with different shapes, (3) passing Python objects instead of tensors. For (1), please define your @tf.function outside of the loop. For (2), @tf.function has experimental_relax_shapes=True option that relaxes argument shapes that can avoid unnecessary retracing. For (3), please refer to https://www.tensorflow.org/tutorials/customization/performance#python_or_tensor_args and https://www.tensorflow.org/api_docs/python/tf/function for  more details.\n"
     ]
    }
   ],
   "source": [
    "ann_x = baseline_model()\n",
    "history = ann_x.fit(X_train, y_train_c, validation_split=0.3, epochs = 500, verbose = 0)"
   ]
  },
  {
   "cell_type": "markdown",
   "metadata": {},
   "source": [
    "### Gráficos de las métricas"
   ]
  },
  {
   "cell_type": "code",
   "execution_count": 130,
   "metadata": {},
   "outputs": [
    {
     "data": {
      "image/png": "[encoded data removed]",
      "text/plain": [
       "<Figure size 432x288 with 1 Axes>"
      ]
     },
     "metadata": {
      "needs_background": "light"
     },
     "output_type": "display_data"
    },
    {
     "data": {
      "image/png": "[encoded data removed]",
      "text/plain": [
       "<Figure size 432x288 with 1 Axes>"
      ]
     },
     "metadata": {
      "needs_background": "light"
     },
     "output_type": "display_data"
    }
   ],
   "source": [
    "graficaResultados(history)"
   ]
  },
  {
   "cell_type": "markdown",
   "metadata": {},
   "source": [
    "### Resumen y métrica"
   ]
  },
  {
   "cell_type": "code",
   "execution_count": 131,
   "metadata": {},
   "outputs": [
    {
     "name": "stdout",
     "output_type": "stream",
     "text": [
      "Model: \"ANN_Base\"\n",
      "_________________________________________________________________\n",
      "Layer (type)                 Output Shape              Param #   \n",
      "=================================================================\n",
      "dense_84 (Dense)             (None, 17)                4675      \n",
      "_________________________________________________________________\n",
      "dense_85 (Dense)             (None, 17)                306       \n",
      "=================================================================\n",
      "Total params: 4,981\n",
      "Trainable params: 4,981\n",
      "Non-trainable params: 0\n",
      "_________________________________________________________________\n"
     ]
    }
   ],
   "source": [
    "ann_x.summary()"
   ]
  },
  {
   "cell_type": "code",
   "execution_count": 132,
   "metadata": {},
   "outputs": [
    {
     "name": "stdout",
     "output_type": "stream",
     "text": [
      "2/2 [==============================] - 0s 2ms/step - loss: 1.1002 - accuracy: 0.7500\n",
      "Test accuracy: 0.75\n"
     ]
    }
   ],
   "source": [
    "test_loss, test_acc = ann_x.evaluate(X_test, y_test_c)\n",
    "print(\"Test accuracy:\", test_acc)"
   ]
  },
  {
   "cell_type": "markdown",
   "metadata": {},
   "source": [
    "### Generación de reportes"
   ]
  },
  {
   "cell_type": "code",
   "execution_count": 133,
   "metadata": {},
   "outputs": [
    {
     "name": "stdout",
     "output_type": "stream",
     "text": [
      "[[32  1  0  0  0  0  0  0  0  0  0  0  0  0  0  0]\n",
      " [ 1  1  0  0  0  0  0  0  0  0  0  0  0  0  0  0]\n",
      " [ 0  0  1  0  0  0  0  0  0  0  0  0  0  0  0  0]\n",
      " [ 1  0  0  0  0  0  0  0  0  0  0  0  0  0  0  0]\n",
      " [ 0  0  0  0  0  0  0  0  0  1  0  0  0  0  0  0]\n",
      " [ 1  0  0  0  0  0  0  0  0  0  0  0  0  0  0  0]\n",
      " [ 0  0  0  0  0  0  0  0  0  0  0  0  0  0  0  0]\n",
      " [ 0  0  0  0  0  0  0  0  0  0  0  0  0  0  0  0]\n",
      " [ 1  0  0  0  0  0  0  0  0  0  0  0  0  0  0  0]\n",
      " [ 2  1  0  0  0  0  0  0  0  4  0  0  0  0  0  0]\n",
      " [ 0  0  0  0  0  0  0  0  0  0  0  0  0  0  0  0]\n",
      " [ 0  0  0  0  0  0  0  0  0  0  0  0  0  0  0  0]\n",
      " [ 0  0  0  0  0  0  0  0  0  0  0  0  0  0  0  0]\n",
      " [ 1  0  0  0  0  0  0  0  0  0  0  0  0  0  0  0]\n",
      " [ 0  1  0  0  0  0  0  0  0  0  0  0  0  0  0  0]\n",
      " [ 1  0  0  0  0  1  0  0  0  1  0  0  0  0  0  0]]\n"
     ]
    }
   ],
   "source": [
    "from sklearn.metrics import confusion_matrix\n",
    "predicciones = makePredictions(ann_x, X_test)\n",
    "y_pred_c = np.argmax(predicciones, axis=1)\n",
    "matriz = confusion_matrix(y_test, y_pred_c, labels=range(1,17))\n",
    "print(matriz)"
   ]
  },
  {
   "cell_type": "markdown",
   "metadata": {},
   "source": [
    "La matriz de confusión anterior el elemento (i,j) representa la cantidad de elementos que siendo de la clase i fueron clasificados por el algoritmo como un elemento de la clase j. Esto sirve para comprobar el reporte que sigue: "
   ]
  },
  {
   "cell_type": "code",
   "execution_count": 135,
   "metadata": {},
   "outputs": [
    {
     "name": "stdout",
     "output_type": "stream",
     "text": [
      "              precision    recall  f1-score   support\n",
      "\n",
      "         1.0       0.80      0.97      0.88        33\n",
      "         2.0       0.25      0.50      0.33         2\n",
      "         3.0       1.00      1.00      1.00         1\n",
      "         4.0       0.00      0.00      0.00         1\n",
      "         5.0       0.00      0.00      0.00         1\n",
      "         6.0       0.00      0.00      0.00         1\n",
      "         9.0       0.00      0.00      0.00         1\n",
      "        10.0       0.67      0.57      0.62         7\n",
      "        14.0       0.00      0.00      0.00         1\n",
      "        15.0       0.00      0.00      0.00         1\n",
      "        16.0       0.00      0.00      0.00         3\n",
      "\n",
      "    accuracy                           0.73        52\n",
      "   macro avg       0.25      0.28      0.26        52\n",
      "weighted avg       0.63      0.73      0.67        52\n",
      "\n"
     ]
    },
    {
     "name": "stderr",
     "output_type": "stream",
     "text": [
      "/Users/GhostGirl/anaconda3/lib/python3.6/site-packages/sklearn/metrics/_classification.py:1268: UndefinedMetricWarning: Precision and F-score are ill-defined and being set to 0.0 in labels with no predicted samples. Use `zero_division` parameter to control this behavior.\n",
      "  _warn_prf(average, modifier, msg_start, len(result))\n"
     ]
    }
   ],
   "source": [
    "from sklearn.metrics import classification_report\n",
    "print(classification_report(y_test, y_pred_c))"
   ]
  },
  {
   "cell_type": "markdown",
   "metadata": {},
   "source": [
    "## Segunda arquitectura de red\n",
    "\n",
    "Esta red tiene 3 capas ocultas, cada una de ellas usando la función de activación relu"
   ]
  },
  {
   "cell_type": "code",
   "execution_count": 136,
   "metadata": {},
   "outputs": [],
   "source": [
    "def secondANN(x_input):\n",
    "    ann = tf.keras.models.Sequential(name = \"Second_ANN\")\n",
    "    # The Input Layer :\n",
    "    ann.add(tf.keras.layers.Dense(17, activation='sigmoid'))#, input_shape=(x_input,)))    \n",
    "    ann.add(tf.keras.layers.Dense(17, activation='softmax'))\n",
    "    ann.add(tf.keras.layers.Dense(17, activation='softmax'))\n",
    "    # Compilación del modelo\n",
    "    ann.compile(loss='categorical_crossentropy', optimizer='adam', metrics=['accuracy'])\n",
    "    return ann"
   ]
  },
  {
   "cell_type": "code",
   "execution_count": 137,
   "metadata": {},
   "outputs": [],
   "source": [
    "ann_y = secondANN(X_train.shape[1])\n",
    "history_y = ann_y.fit(X_train, y_train_c, validation_split=0.3, epochs = 500, verbose = 0)"
   ]
  },
  {
   "cell_type": "code",
   "execution_count": 138,
   "metadata": {},
   "outputs": [
    {
     "data": {
      "image/png": "[encoded data removed]",
      "text/plain": [
       "<Figure size 432x288 with 1 Axes>"
      ]
     },
     "metadata": {
      "needs_background": "light"
     },
     "output_type": "display_data"
    },
    {
     "data": {
      "image/png": "[encoded data removed]",
      "text/plain": [
       "<Figure size 432x288 with 1 Axes>"
      ]
     },
     "metadata": {
      "needs_background": "light"
     },
     "output_type": "display_data"
    }
   ],
   "source": [
    "graficaResultados(history_y, mean = \"mean_absolute_error\", titleMean = \"MAE\")"
   ]
  },
  {
   "cell_type": "code",
   "execution_count": 139,
   "metadata": {},
   "outputs": [
    {
     "name": "stdout",
     "output_type": "stream",
     "text": [
      "Model: \"Second_ANN\"\n",
      "_________________________________________________________________\n",
      "Layer (type)                 Output Shape              Param #   \n",
      "=================================================================\n",
      "dense_86 (Dense)             (None, 17)                4675      \n",
      "_________________________________________________________________\n",
      "dense_87 (Dense)             (None, 17)                306       \n",
      "_________________________________________________________________\n",
      "dense_88 (Dense)             (None, 17)                306       \n",
      "=================================================================\n",
      "Total params: 5,287\n",
      "Trainable params: 5,287\n",
      "Non-trainable params: 0\n",
      "_________________________________________________________________\n"
     ]
    }
   ],
   "source": [
    "ann_y.summary()"
   ]
  },
  {
   "cell_type": "code",
   "execution_count": 140,
   "metadata": {},
   "outputs": [
    {
     "name": "stdout",
     "output_type": "stream",
     "text": [
      "2/2 [==============================] - 0s 2ms/step - loss: 1.3728 - accuracy: 0.6538\n",
      "Test accuracy: 0.6538461446762085\n"
     ]
    }
   ],
   "source": [
    "test_loss, test_acc = ann_y.evaluate(X_test, y_test_c)\n",
    "print(\"Test accuracy:\", test_acc)"
   ]
  },
  {
   "cell_type": "markdown",
   "metadata": {},
   "source": [
    "### Generación de reportes"
   ]
  },
  {
   "cell_type": "code",
   "execution_count": 141,
   "metadata": {},
   "outputs": [
    {
     "name": "stdout",
     "output_type": "stream",
     "text": [
      "[[27  3  0  0  0  2  0  0  0  1  0  0  0  0  0  0]\n",
      " [ 0  1  0  0  0  1  0  0  0  0  0  0  0  0  0  0]\n",
      " [ 0  0  1  0  0  0  0  0  0  0  0  0  0  0  0  0]\n",
      " [ 0  1  0  0  0  0  0  0  0  0  0  0  0  0  0  0]\n",
      " [ 0  0  0  0  0  0  0  0  0  0  0  0  0  0  0  1]\n",
      " [ 1  0  0  0  0  0  0  0  0  0  0  0  0  0  0  0]\n",
      " [ 0  0  0  0  0  0  0  0  0  0  0  0  0  0  0  0]\n",
      " [ 0  0  0  0  0  0  0  0  0  0  0  0  0  0  0  0]\n",
      " [ 0  0  0  0  0  0  0  0  0  1  0  0  0  0  0  0]\n",
      " [ 2  0  0  0  0  0  0  0  0  5  0  0  0  0  0  0]\n",
      " [ 0  0  0  0  0  0  0  0  0  0  0  0  0  0  0  0]\n",
      " [ 0  0  0  0  0  0  0  0  0  0  0  0  0  0  0  0]\n",
      " [ 0  0  0  0  0  0  0  0  0  0  0  0  0  0  0  0]\n",
      " [ 0  0  1  0  0  0  0  0  0  0  0  0  0  0  0  0]\n",
      " [ 0  1  0  0  0  0  0  0  0  0  0  0  0  0  0  0]\n",
      " [ 1  0  1  0  0  0  0  0  0  1  0  0  0  0  0  0]]\n"
     ]
    }
   ],
   "source": [
    "from sklearn.metrics import confusion_matrix\n",
    "predicciones = makePredictions(ann_y, X_test)\n",
    "y_pred_c = np.argmax(predicciones, axis=1)\n",
    "matriz = confusion_matrix(y_test, y_pred_c, labels=range(1,17))\n",
    "print(matriz)"
   ]
  },
  {
   "cell_type": "code",
   "execution_count": 142,
   "metadata": {},
   "outputs": [
    {
     "name": "stdout",
     "output_type": "stream",
     "text": [
      "              precision    recall  f1-score   support\n",
      "\n",
      "         1.0       0.87      0.82      0.84        33\n",
      "         2.0       0.17      0.50      0.25         2\n",
      "         3.0       0.33      1.00      0.50         1\n",
      "         4.0       0.00      0.00      0.00         1\n",
      "         5.0       0.00      0.00      0.00         1\n",
      "         6.0       0.00      0.00      0.00         1\n",
      "         9.0       0.00      0.00      0.00         1\n",
      "        10.0       0.62      0.71      0.67         7\n",
      "        14.0       0.00      0.00      0.00         1\n",
      "        15.0       0.00      0.00      0.00         1\n",
      "        16.0       0.00      0.00      0.00         3\n",
      "\n",
      "    accuracy                           0.65        52\n",
      "   macro avg       0.18      0.28      0.21        52\n",
      "weighted avg       0.65      0.65      0.64        52\n",
      "\n"
     ]
    },
    {
     "name": "stderr",
     "output_type": "stream",
     "text": [
      "/Users/GhostGirl/anaconda3/lib/python3.6/site-packages/sklearn/metrics/_classification.py:1268: UndefinedMetricWarning: Precision and F-score are ill-defined and being set to 0.0 in labels with no predicted samples. Use `zero_division` parameter to control this behavior.\n",
      "  _warn_prf(average, modifier, msg_start, len(result))\n"
     ]
    }
   ],
   "source": [
    "from sklearn.metrics import classification_report\n",
    "print(classification_report(y_test, y_pred_c))"
   ]
  },
  {
   "cell_type": "markdown",
   "metadata": {},
   "source": [
    "## Tercera arquitectura\n",
    "\n",
    "En este caso se cambian las funciones de activación"
   ]
  },
  {
   "cell_type": "code",
   "execution_count": 143,
   "metadata": {},
   "outputs": [],
   "source": [
    "def thirdANN(x_input_dim):\n",
    "    ann = tf.keras.models.Sequential(name = \"Third_ANN\")\n",
    "    # The Input Layer :\n",
    "    ann.add(tf.keras.layers.Dense(17, activation='sigmoid'))#, input_shape=(x_input,)))    \n",
    "    ann.add(tf.keras.layers.Dense(17, activation='tanh'))\n",
    "    ann.add(tf.keras.layers.Dense(17, activation='softmax'))\n",
    "    # Compilación del modelo\n",
    "    ann.compile(loss='categorical_crossentropy', optimizer='sgd', metrics=['accuracy'])\n",
    "    return ann"
   ]
  },
  {
   "cell_type": "code",
   "execution_count": 144,
   "metadata": {},
   "outputs": [],
   "source": [
    "ann_z = thirdANN(X_train.shape[1])\n",
    "history_z = ann_z.fit(X_train, y_train_c, validation_split=0.3, epochs = 500, verbose=0)"
   ]
  },
  {
   "cell_type": "code",
   "execution_count": 145,
   "metadata": {},
   "outputs": [
    {
     "data": {
      "image/png": "[encoded data removed]",
      "text/plain": [
       "<Figure size 432x288 with 1 Axes>"
      ]
     },
     "metadata": {
      "needs_background": "light"
     },
     "output_type": "display_data"
    },
    {
     "data": {
      "image/png": "[encoded data removed]",
      "text/plain": [
       "<Figure size 432x288 with 1 Axes>"
      ]
     },
     "metadata": {
      "needs_background": "light"
     },
     "output_type": "display_data"
    }
   ],
   "source": [
    "graficaResultados(history_z, mean = \"mean_absolute_error\", titleMean = \"MAE\")"
   ]
  },
  {
   "cell_type": "code",
   "execution_count": 146,
   "metadata": {},
   "outputs": [
    {
     "name": "stdout",
     "output_type": "stream",
     "text": [
      "2/2 [==============================] - 0s 2ms/step - loss: 1.2540 - accuracy: 0.7308\n",
      "Test accuracy: 0.7307692170143127\n"
     ]
    }
   ],
   "source": [
    "test_loss, test_acc = ann_z.evaluate(X_test, y_test_c)\n",
    "print(\"Test accuracy:\", test_acc)"
   ]
  },
  {
   "cell_type": "markdown",
   "metadata": {},
   "source": [
    "### Generación de reportes"
   ]
  },
  {
   "cell_type": "code",
   "execution_count": 147,
   "metadata": {},
   "outputs": [
    {
     "name": "stdout",
     "output_type": "stream",
     "text": [
      "[[32  1  0  0  0  0  0  0  0  0  0  0  0  0  0  0]\n",
      " [ 2  0  0  0  0  0  0  0  0  0  0  0  0  0  0  0]\n",
      " [ 0  0  1  0  0  0  0  0  0  0  0  0  0  0  0  0]\n",
      " [ 0  0  0  1  0  0  0  0  0  0  0  0  0  0  0  0]\n",
      " [ 0  0  1  0  0  0  0  0  0  0  0  0  0  0  0  0]\n",
      " [ 1  0  0  0  0  0  0  0  0  0  0  0  0  0  0  0]\n",
      " [ 0  0  0  0  0  0  0  0  0  0  0  0  0  0  0  0]\n",
      " [ 0  0  0  0  0  0  0  0  0  0  0  0  0  0  0  0]\n",
      " [ 0  0  0  0  0  0  0  0  0  0  0  0  0  0  0  1]\n",
      " [ 2  1  0  0  0  0  0  0  0  4  0  0  0  0  0  0]\n",
      " [ 0  0  0  0  0  0  0  0  0  0  0  0  0  0  0  0]\n",
      " [ 0  0  0  0  0  0  0  0  0  0  0  0  0  0  0  0]\n",
      " [ 0  0  0  0  0  0  0  0  0  0  0  0  0  0  0  0]\n",
      " [ 0  0  1  0  0  0  0  0  0  0  0  0  0  0  0  0]\n",
      " [ 0  1  0  0  0  0  0  0  0  0  0  0  0  0  0  0]\n",
      " [ 2  0  0  0  0  0  0  0  0  1  0  0  0  0  0  0]]\n"
     ]
    }
   ],
   "source": [
    "from sklearn.metrics import confusion_matrix\n",
    "predicciones = makePredictions(ann_z, X_test)\n",
    "y_pred_c = np.argmax(predicciones, axis=1)\n",
    "matriz = confusion_matrix(y_test, y_pred_c, labels=range(1,17))\n",
    "print(matriz)"
   ]
  },
  {
   "cell_type": "code",
   "execution_count": 148,
   "metadata": {},
   "outputs": [
    {
     "name": "stdout",
     "output_type": "stream",
     "text": [
      "              precision    recall  f1-score   support\n",
      "\n",
      "         1.0       0.82      0.97      0.89        33\n",
      "         2.0       0.00      0.00      0.00         2\n",
      "         3.0       0.33      1.00      0.50         1\n",
      "         4.0       1.00      1.00      1.00         1\n",
      "         5.0       0.00      0.00      0.00         1\n",
      "         6.0       0.00      0.00      0.00         1\n",
      "         9.0       0.00      0.00      0.00         1\n",
      "        10.0       0.80      0.57      0.67         7\n",
      "        14.0       0.00      0.00      0.00         1\n",
      "        15.0       0.00      0.00      0.00         1\n",
      "        16.0       0.00      0.00      0.00         3\n",
      "\n",
      "    accuracy                           0.73        52\n",
      "   macro avg       0.27      0.32      0.28        52\n",
      "weighted avg       0.65      0.73      0.68        52\n",
      "\n"
     ]
    },
    {
     "name": "stderr",
     "output_type": "stream",
     "text": [
      "/Users/GhostGirl/anaconda3/lib/python3.6/site-packages/sklearn/metrics/_classification.py:1268: UndefinedMetricWarning: Precision and F-score are ill-defined and being set to 0.0 in labels with no predicted samples. Use `zero_division` parameter to control this behavior.\n",
      "  _warn_prf(average, modifier, msg_start, len(result))\n"
     ]
    }
   ],
   "source": [
    "from sklearn.metrics import classification_report\n",
    "print(classification_report(y_test, y_pred_c))"
   ]
  },
  {
   "cell_type": "code",
   "execution_count": null,
   "metadata": {},
   "outputs": [],
   "source": []
  }
 ],
 "metadata": {
  "kernelspec": {
   "display_name": "Python 3",
   "language": "python",
   "name": "python3"
  },
  "language_info": {
   "codemirror_mode": {
    "name": "ipython",
    "version": 3
   },
   "file_extension": ".py",
   "mimetype": "text/x-python",
   "name": "python",
   "nbconvert_exporter": "python",
   "pygments_lexer": "ipython3",
   "version": "3.6.10"
  }
 },
 "nbformat": 4,
 "nbformat_minor": 4
}
